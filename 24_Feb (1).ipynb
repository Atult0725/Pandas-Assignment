{
 "cells": [
  {
   "cell_type": "code",
   "execution_count": null,
   "id": "792ea40a-f292-4ae4-bdc1-5b2d4594cc55",
   "metadata": {},
   "outputs": [],
   "source": [
    "'''Q1. List any five functions of the pandas library with execution.\n",
    "Ans-Pandas DataFrame provides a wide range of functions to manipulate data. Some of the common functions are:\n",
    "\n",
    "head() and tail() - To view the first or last few rows of the DataFrame. These functions can be useful when we want to have a quick glance at the DataFrame.\n",
    "\n",
    "info() and describe() - info() provides the summary of the DataFrame including the data types of each column and the number of non-null values. describe() provides the statistical summary of the numerical columns of the DataFrame.\n",
    "\n",
    "sort_values() - To sort the rows of a DataFrame based on one or more columns. This function can be useful when we want to find the top or bottom values in a DataFrame based on a particular column.\n",
    "\n",
    "groupby() and agg() - groupby() is used to group the rows of a DataFrame based on one or more columns. agg() is used to perform aggregations on the grouped data. These functions can be useful when we want to calculate summary statistics for different groups in the DataFrame.\n",
    "\n",
    "drop() and fillna() - drop() is used to drop rows or columns from the DataFrame. fillna() is used to fill missing values in the DataFrame. These functions can be useful when we want to clean the DataFrame before analysis.\n",
    "\n",
    "apply() - To apply a function to each element of a DataFrame. This function can be useful when we want to perform some custom operation on the DataFrame.\n",
    "\n",
    "'''\n",
    "import pandas as pd\n",
    "\n",
    "# create a sample DataFrame\n",
    "data = {'name': ['Alice', 'Bob', 'Charlie', 'David', 'Emily'],\n",
    "        'age': [25, 30, 25, 40, 45],\n",
    "        'gender': ['F', 'M', 'M', 'M', 'F'],\n",
    "        'salary': [50000, 60000, 70000, 80000,None]\n",
    "        }\n",
    "\n",
    "\n",
    "df=pd.DataFrame(data)\n",
    "\n",
    "# view the first few rows of the DataFrame\n",
    "print(df.head())\n",
    "\n",
    "# view the last few rows of the DataFrame\n",
    "print(df.tail())\n",
    "\n",
    "# get the summary information of the DataFrame\n",
    "print(df.info())\n",
    "\n",
    "# get the statistical summary of the numerical columns of the DataFrame\n",
    "print(df.describe())\n",
    "\n",
    "# sort the DataFrame by age in descending order\n",
    "df_sorted=df.sort_values('age',ascending=False)\n",
    "print(df_sorted)\n",
    "\n",
    "# group the DataFrame by gender and calculate the average salary for each group\n",
    "grouped_df=df.groupby('gender').agg({'salary':'mean'})\n",
    "print(grouped_df)\n",
    "\n",
    "grouped_df=df.groupby('age').agg({'salary':'mean'})\n",
    "print(grouped_df)\n",
    "\n",
    "# drop the age column from the DataFrame\n",
    "df_dropped=df.drop('age',axis=1)\n",
    "print(df_dropped)\n",
    "\n",
    "# fill missing values in the salary column with the mean salary\n",
    "mean_salary = df['salary'].mean()\n",
    "df_filled = df.fillna({'salary': mean_salary})\n",
    "print(df_filled)\n",
    "\n"
   ]
  },
  {
   "cell_type": "code",
   "execution_count": 2,
   "id": "a41fe3dc-5fec-44b1-bb68-5f1f066510a5",
   "metadata": {},
   "outputs": [
    {
     "name": "stdout",
     "output_type": "stream",
     "text": [
      "   A  B  C\n",
      "1  2  2  2\n",
      "3  3  3  3\n",
      "5  4  4  4\n",
      "7  5  5  5\n"
     ]
    }
   ],
   "source": [
    "\n",
    "\n",
    "'''Q2. Given a Pandas DataFrame df with columns 'A', 'B', and 'C', write a Python function to re-index the\n",
    "DataFrame with a new index that starts from 1 and increments by 2 for each row.'''\n",
    "\n",
    "import pandas as pd\n",
    "\n",
    "def reindex(df):\n",
    "    df.reset_index(drop=True, inplace=True)\n",
    "    df.index = range(1, 2*len(df.index)+1, 2)\n",
    "    return df\n",
    "data={\"A\":[2,3,4,5],\n",
    "      \"B\":[2,3,4,5],\n",
    "      \"C\":[2,3,4,5]\n",
    "}\n",
    "\n",
    "df=pd.DataFrame(data)\n",
    "new_df = reindex(df)\n",
    "print(new_df)\n",
    "\n",
    "\n"
   ]
  },
  {
   "cell_type": "code",
   "execution_count": 4,
   "id": "e1f20377-06f7-40f2-8c53-928b8df0fea5",
   "metadata": {},
   "outputs": [
    {
     "name": "stdout",
     "output_type": "stream",
     "text": [
      "The sum of first three values 60\n"
     ]
    }
   ],
   "source": [
    "\n",
    "'''Q3. You have a Pandas DataFrame df with a column named 'Values'. Write a Python function that\n",
    "iterates over the DataFrame and calculates the sum of the first three values in the 'Values' column. The\n",
    "function should print the sum to the console.\n",
    "'''\n",
    "def sum_first_three_values(df):\n",
    "    total=0\n",
    "    for i,row in df.iterrows():\n",
    "        if i<3:\n",
    "            total=total+row['Values']\n",
    "    print('The sum of first three values',total)\n",
    "\n",
    "df= pd.DataFrame({'Values': [10, 20, 30, 40, 50]})\n",
    "sum_first_three_values(df)\n",
    "\n",
    "\n"
   ]
  },
  {
   "cell_type": "code",
   "execution_count": 15,
   "id": "30e3e34a-a0a2-433d-b991-e4bbfa2893ee",
   "metadata": {},
   "outputs": [
    {
     "name": "stdout",
     "output_type": "stream",
     "text": [
      "                          Text  word_count\n",
      "0        This is a sample text           5\n",
      "1  Here is another sample text           5\n",
      "2                 And one more           3\n"
     ]
    }
   ],
   "source": [
    "'''Q4. Given a Pandas DataFrame df with a column 'Text', write a Python function to create a new column\n",
    "'Word_Count' that contains the number of words in each row of the 'Text' column.'''\n",
    "\n",
    "import pandas as pd\n",
    "\n",
    "def word_counts(df):\n",
    "    df['word_count']=df['Text'].apply(lambda x: len(str(x).split()))\n",
    "    return df\n",
    "\n",
    "df = pd.DataFrame({'Text': ['This is a sample text', 'Here is another sample text', 'And one more']})\n",
    "df = word_counts(df)\n",
    "print(df)\n"
   ]
  },
  {
   "cell_type": "code",
   "execution_count": 18,
   "id": "3f6ec7d3-c7ee-4f6a-9d05-0d5d83ce1ea5",
   "metadata": {},
   "outputs": [
    {
     "name": "stdout",
     "output_type": "stream",
     "text": [
      "9\n",
      "(3, 3)\n"
     ]
    }
   ],
   "source": [
    "'''\n",
    "Q5. How are DataFrame.size() and DataFrame.shape() different?\n",
    "\n",
    "Ans-Both DataFrame.size() and DataFrame.shape() are methods in Pandas that are used to get the dimensions of a DataFrame. However, they return different values and are used for different purposes.\n",
    "\n",
    "The DataFrame.size() method returns the total number of elements in the DataFrame, i.e., the number of rows multiplied by the number of columns. This can be useful when you need to know the total number of cells in the DataFrame.\n",
    "\n",
    "On the other hand, the DataFrame.shape() method returns a tuple of two integers representing the number of rows and columns in the DataFrame, respectively. This is typically used to get an overview of the DataFrame's structure\n",
    "'''\n",
    "\n",
    "import pandas as pd\n",
    "\n",
    "df=pd.DataFrame({'A': [1, 2, 3], 'B': [4, 5, 6], 'C': [7, 8, 9]})\n",
    "print(df.size)\n",
    "print(df.shape)"
   ]
  },
  {
   "cell_type": "code",
   "execution_count": null,
   "id": "e637f0b1-5f72-483f-b1f2-bd908c35791e",
   "metadata": {},
   "outputs": [],
   "source": [
    "'''Q6. Which function of pandas do we use to read an excel file?\n",
    "Ans-To read an Excel file in pandas, you can use the read_excel() function provided by pandas. Here is an example:\n",
    "\n",
    "'''\n",
    "import pandas as pd\n",
    "\n",
    "df = pd.read_excel(\"filename.xlsx\")\n"
   ]
  },
  {
   "cell_type": "code",
   "execution_count": 2,
   "id": "b0c39e2e-e6d4-4369-a4bc-a010146ad1b4",
   "metadata": {},
   "outputs": [
    {
     "name": "stdout",
     "output_type": "stream",
     "text": [
      "                     Email     Username       Domain\n",
      "0     john.doe@example.com     john.doe  example.com\n",
      "1     jane.doe@example.com     jane.doe  example.com\n",
      "2  james.smith@example.com  james.smith  example.com\n"
     ]
    }
   ],
   "source": [
    "\n",
    "'''Q7. You have a Pandas DataFrame df that contains a column named 'Email' that contains email\n",
    "addresses in the format 'username@domain.com'. Write a Python function that creates a new column\n",
    "'Username' in df that contains only the username part of each email address.\n",
    "\n",
    "The username is the part of the email address that appears before the '@' symbol. For example, if the\n",
    "email address is 'john.doe@example.com', the 'Username' column should contain 'john.doe'. Your\n",
    "function should extract the username from each email address and store it in the new 'Username'\n",
    "column.\n",
    "\n",
    "'''\n",
    "\n",
    "def extract_username(df):\n",
    "    df[['Username', 'Domain']] = df['Email'].str.split('@', expand=True)\n",
    "\n",
    "    return df\n",
    "\n",
    "\n",
    "import pandas as pd\n",
    "\n",
    "df = pd.DataFrame({'Email': ['john.doe@example.com', 'jane.doe@example.com', 'james.smith@example.com']})\n",
    "\n",
    "df = extract_username(df)\n",
    "\n",
    "print(df)\n"
   ]
  },
  {
   "cell_type": "code",
   "execution_count": 1,
   "id": "75f26f2f-53c4-450a-bb1b-845b2908dc72",
   "metadata": {},
   "outputs": [
    {
     "name": "stdout",
     "output_type": "stream",
     "text": [
      "   A  B  C\n",
      "1  8  2  7\n",
      "2  6  9  4\n",
      "4  9  1  2\n"
     ]
    }
   ],
   "source": [
    "\n",
    "'''Q8. You have a Pandas DataFrame df with columns 'A', 'B', and 'C'. Write a Python function that selects\n",
    "all rows where the value in column 'A' is greater than 5 and the value in column 'B' is less than 10. The\n",
    "function should return a new DataFrame that contains only the selected rows.\n",
    "\n",
    "For example, if df contains the following values:\n",
    "\n",
    "   A   B   C\n",
    "\n",
    "0  3   5   1\n",
    "\n",
    "1  8   2   7\n",
    "\n",
    "2  6   9   4\n",
    "\n",
    "3  2   3   5\n",
    "\n",
    "4  9   1   2\n",
    "\n",
    "'''\n",
    "\n",
    "import pandas as pd\n",
    "\n",
    "data={'A':[3,8,6,2,9,],'B':[5,2,9,3,1],'C':[1,7,4,5,2]}\n",
    "\n",
    "df=pd.DataFrame(data)\n",
    "\n",
    "def func(df):\n",
    "    rows=df[(df['A']>5) & ( df['B']<10)]\n",
    "    return rows\n",
    "print(func(df))\n"
   ]
  },
  {
   "cell_type": "code",
   "execution_count": 5,
   "id": "73dfcd01-0485-4e18-b224-3f3a4e0dc43a",
   "metadata": {},
   "outputs": [
    {
     "name": "stdout",
     "output_type": "stream",
     "text": [
      "Mean 30.0\n",
      "Median 30.0\n",
      "standard deviation 15.811388300841896\n"
     ]
    }
   ],
   "source": [
    "'''Q9. Given a Pandas DataFrame df with a column 'Values', write a Python function to calculate the mean,\n",
    "median, and standard deviation of the values in the 'Values' column.'''\n",
    "import pandas as pd\n",
    "df=pd.DataFrame({'Values':[10,20,30,40,50]})\n",
    "\n",
    "def calculater(df):\n",
    "    print(\"Mean\",df['Values'].mean()) \n",
    "    print(\"Median\",df['Values'].median())\n",
    "    print(\"standard deviation\",df['Values'].std())\n",
    "calculater(df)"
   ]
  },
  {
   "cell_type": "code",
   "execution_count": null,
   "id": "9d3720da-9c15-48a0-9033-4ccef7d42402",
   "metadata": {},
   "outputs": [],
   "source": [
    "\n",
    "'''Q10. Given a Pandas DataFrame df with a column 'Sales' and a column 'Date', write a Python function to\n",
    "create a new column 'MovingAverage' that contains the moving average of the sales for the past 7 days\n",
    "for each row in the DataFrame. The moving average should be calculated using a window of size 7 and\n",
    "should include the current day'''\n",
    "\n",
    "import pandas as pd\n",
    "\n",
    "def add_moving_average(df):\n",
    "    ma=df['Sales'].rolling(window=7,min_periods=1).mean()\n",
    "    df['Moving average']=ma\n",
    "    return df\n",
    "\n",
    "\n",
    "df = pd.DataFrame({'Sales': [10, 20, 30, 40, 50, 60, 70, 80, 90, 100,110,120],\n",
    "                   'Date': pd.date_range(start='2022-02-22', periods=12, freq='D')})\n",
    "\n",
    "print(add_moving_average(df))"
   ]
  },
  {
   "cell_type": "code",
   "execution_count": null,
   "id": "f4239f60-bd3b-4c45-8956-9f4176d2268e",
   "metadata": {},
   "outputs": [],
   "source": [
    "\n",
    "'''Q10. Given a Pandas DataFrame df with a column 'Sales' and a column 'Date', write a Python function to\n",
    "create a new column 'MovingAverage' that contains the moving average of the sales for the past 7 days\n",
    "for each row in the DataFrame. The moving average should be calculated using a window of size 7 and\n",
    "should include the current day'''\n",
    "\n",
    "import pandas as pd\n",
    "\n",
    "def add_moving_average(df):\n",
    "    ma = df['Sales'].rolling(window=7,min_periods=1).mean()\n",
    "    df['MovingAverage']=ma.values\n",
    "    return df\n",
    "\n",
    "\n",
    "df = pd.DataFrame({'Sales': [10, 20, 30, 40, 50, 60, 70, 80, 90, 100],\n",
    "                   'Date': ['2022-01-01', '2022-01-02', '2022-01-03', '2022-01-04', '2022-01-05', '2022-01-06', '2022-01-07', '2022-01-08', '2022-01-09', '2022-01-10']})\n",
    "\n",
    "df = add_moving_average(df)\n",
    "print(df)\n",
    "\n"
   ]
  },
  {
   "cell_type": "code",
   "execution_count": null,
   "id": "1e8d6f78-75f5-4842-8c89-ca0594a323a4",
   "metadata": {
    "tags": []
   },
   "outputs": [],
   "source": [
    "\n",
    "'''Q10. Given a Pandas DataFrame df with a column 'Sales' and a column 'Date', write a Python function to\n",
    "create a new column 'MovingAverage' that contains the moving average of the sales for the past 7 days\n",
    "for each row in the DataFrame. The moving average should be calculated using a window of size 7 and\n",
    "should include the current day'''\n",
    "\n",
    "import pandas as pd\n",
    "\n",
    "def add_moving_average(df):\n",
    "    ma = df['Sales'].rolling(window=7,min_periods=1).mean()\n",
    "    df['MovingAverage']=ma.values\n",
    "    return df\n",
    "\n",
    "\n",
    "df = pd.DataFrame({'Sales': [10, 20, 30, 40, 50, 60, 70, 80, 90, 100],\n",
    "                   'Date': ['2022-01-01', '2022-01-02', '2022-01-03', '2022-01-04', '2022-01-05', '2022-01-06', '2022-01-07', '2022-01-08', '2022-01-09', '2022-01-10']})\n",
    "\n",
    "df = add_moving_average(df)\n",
    "print(df)\n",
    "\n"
   ]
  },
  {
   "cell_type": "code",
   "execution_count": null,
   "id": "6f63a0f8-6bb7-4b2e-ad95-4a34833689f5",
   "metadata": {},
   "outputs": [],
   "source": [
    "'''\n",
    "Q11.You have a Pandas DataFrame df with a column 'Date'. Write a Python function that creates a new\n",
    "column 'Weekday' in the DataFrame. The 'Weekday' column should contain the weekday name (e.g.\n",
    "Monday, Tuesday) corresponding to each date in the 'Date' column.\n",
    "For example, if df contains the following values:\n",
    "Date\n",
    "0 2023-01-01\n",
    "1 2023-01-02\n",
    "2 2023-01-03\n",
    "3 2023-01-04\n",
    "4 2023-01-05\n",
    "Your function should create the following DataFrame:\n",
    "\n",
    "Date Weekday\n",
    "0 2023-01-01 Sunday\n",
    "1 2023-01-02 Monday\n",
    "2 2023-01-03 Tuesday\n",
    "3 2023-01-04 Wednesday\n",
    "4 2023-01-05 Thursday\n",
    "The function should return the modified DataFrame.\n",
    "\n",
    "Ans-'''\n",
    "\n",
    "import pandas as pd\n",
    "\n",
    "def add_weekday(df):\n",
    "    df['Weekday'] = df['Date'].dt.strftime('%A')\n",
    "    return df\n",
    "'''The dt accessor allows you to access the datetime properties of a Pandas Series, and strftime formats the datetime value as a string using a specified format string. %A returns the full weekday name (e.g. Sunday, Monday).\n",
    "'''\n",
    "\n",
    "df = pd.DataFrame({'Date': ['2023-01-01', '2023-01-02', '2023-01-03', '2023-01-04', '2023-01-05']})\n",
    "df['Date'] = pd.to_datetime(df['Date'])\n",
    "df = add_weekday(df)\n",
    "print(df)\n",
    "\n",
    "\n"
   ]
  },
  {
   "cell_type": "code",
   "execution_count": null,
   "id": "1d0b3ecc-1b13-4620-be92-4492e3be3a57",
   "metadata": {},
   "outputs": [],
   "source": [
    "'''Q12. Given a Pandas DataFrame df with a column 'Date' that contains timestamps, write a Python\n",
    "function to select all rows where the date is between '2023-01-01' and '2023-01-31'.\n",
    "Ans-between() function of Pandas to select all rows where the date is between '2023-01-01' and '2023-01-31'. Here is the Python function to accomplish this:\n",
    "\n",
    "'''\n",
    "import pandas as pd\n",
    "\n",
    "def select_rows_between_dates(df):\n",
    "    start_date = '2023-01-01'\n",
    "    end_date = '2023-01-31'\n",
    "    mask = (df['Date'] >= start_date) & (df['Date'] <= end_date)\n",
    "    return df.loc[mask]\n",
    "df = pd.DataFrame({'Date': ['2023-01-01', '2023-01-05', '2023-01-15', '2023-02-01'], 'Sales': [10, 20, 30, 40]})\n",
    "selected_df = select_rows_between_dates(df)\n",
    "print(selected_df)\n",
    "\n"
   ]
  },
  {
   "cell_type": "code",
   "execution_count": null,
   "id": "7340a53c-34b4-451b-9cbf-a21aa2dd0e6a",
   "metadata": {},
   "outputs": [],
   "source": [
    "'''Q13. To use the basic functions of pandas, what is the first and foremost necessary library that needs to\n",
    "be imported?\n",
    "\n",
    "Ans-The first and foremost necessary library that needs to be imported to use the basic functions of pandas is pandas itself.\n",
    "\n",
    "To import pandas, you can use the following code:\n",
    "\n",
    "import pandas as pd\n",
    "\n",
    "The pd alias is a commonly used convention for pandas, as it makes it easier to refer to the pandas functions later in your code. Once you have imported pandas, you can use its functions and classes to manipulate and analyze data in Python.\n",
    "'''"
   ]
  },
  {
   "cell_type": "code",
   "execution_count": null,
   "id": "f347e5a6-ef18-445b-9d07-22ca9f990313",
   "metadata": {},
   "outputs": [],
   "source": []
  }
 ],
 "metadata": {
  "kernelspec": {
   "display_name": "Python 3 (ipykernel)",
   "language": "python",
   "name": "python3"
  },
  "language_info": {
   "codemirror_mode": {
    "name": "ipython",
    "version": 3
   },
   "file_extension": ".py",
   "mimetype": "text/x-python",
   "name": "python",
   "nbconvert_exporter": "python",
   "pygments_lexer": "ipython3",
   "version": "3.10.8"
  }
 },
 "nbformat": 4,
 "nbformat_minor": 5
}
